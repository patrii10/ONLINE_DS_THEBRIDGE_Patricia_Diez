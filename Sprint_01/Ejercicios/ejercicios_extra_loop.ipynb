{
 "cells": [
  {
   "cell_type": "markdown",
   "metadata": {},
   "source": [
    "**Exercise 1**\\\n",
    "Write a program that generates a random number (0-10) and ask you to guess it. You have three asserts.\\\n",
    "Define a random_number with randit between 0-10. \\\n",
    "Initialize guesses_left to 3. \\\n",
    "Use a while loop to let the user keep guessing so long as guesses_left is greater than zero.\\\n",
    "Ask the user for their guess, just like the second example above.\\\n",
    "If they guess correctly, print 'You win!' and break. Decrement guesses_left by one.\\\n",
    "Use an else: case after your while loop to print: You lose. "
   ]
  },
  {
   "cell_type": "code",
   "execution_count": 9,
   "metadata": {},
   "outputs": [
    {
     "name": "stdout",
     "output_type": "stream",
     "text": [
      "Perdiste. El número era: 10\n"
     ]
    }
   ],
   "source": [
    "import random\n",
    "\n",
    "random_number = random.randint(0,10)\n",
    "\n",
    "guesses_left = 3 \n",
    "\n",
    "while guesses_left > 0: \n",
    "    user_guess = int(input(\"Adivina el número (entre 0 y 10): \"))\n",
    "    if user_guess == random_number:\n",
    "        print(\"¡Ganaste!\")\n",
    "        break\n",
    "    guesses_left -= 1\n",
    "else:\n",
    "    print(\"Perdiste. El número era:\", random_number)\n",
    "\n",
    " "
   ]
  },
  {
   "cell_type": "markdown",
   "metadata": {},
   "source": [
    "Create a for loop that prompts the user for a hobby 3 times, then appends each one to hobbies.\n",
    "\n"
   ]
  },
  {
   "cell_type": "code",
   "execution_count": 13,
   "metadata": {},
   "outputs": [
    {
     "name": "stdout",
     "output_type": "stream",
     "text": [
      "['agua']\n",
      "['agua', 'sky']\n",
      "['agua', 'sky', 'gym']\n",
      "3\n"
     ]
    }
   ],
   "source": [
    "Hobbies = []\n",
    "\n",
    "while len(Hobbies) < 3: \n",
    "    hobby = input(\"Dime un hobby!\")\n",
    "    Hobbies.append(hobby)\n",
    "    print(Hobbies)\n",
    "    \n",
    "\n",
    "print(len(Hobbies))"
   ]
  },
  {
   "cell_type": "markdown",
   "metadata": {},
   "source": [
    "REmember: The , character after our print statement means that our next print statement keeps printing on the same line. \\\n",
    "Let's filter out the letter 'A' from our string.\n",
    "\n",
    "phrase = \"A bird in the hand...\" \\\n",
    "Do the following for each character in the phrase.\n",
    "\n",
    "If char is an 'A' or char is an 'a', print 'X', instead of char. Make sure to include the trailing comma.\n",
    "Otherwise (else:), please print char, with the trailing comma."
   ]
  },
  {
   "cell_type": "code",
   "execution_count": 4,
   "metadata": {},
   "outputs": [
    {
     "name": "stdout",
     "output_type": "stream",
     "text": [
      "x, ,b,i,r,d, ,i,n, ,t,h,e, ,h,x,n,d,.,.,.,"
     ]
    }
   ],
   "source": [
    "phrase = \"A bird in the hand...\"\n",
    "\n",
    "for i in phrase: \n",
    "    if i == \"A\" or i == \"a\": \n",
    "        print(\"x\", end = \",\")\n",
    "    else: \n",
    "        print(i, end = \",\")"
   ]
  },
  {
   "cell_type": "markdown",
   "metadata": {},
   "source": [
    "Define a function is_even that will take a number x as input.  \n",
    "If x is even, then return True. Otherwise, return False. \n",
    "\n",
    "Note: even means that is divisible by two.\n",
    "\n",
    "Check if it works."
   ]
  },
  {
   "cell_type": "code",
   "execution_count": 7,
   "metadata": {},
   "outputs": [
    {
     "name": "stdout",
     "output_type": "stream",
     "text": [
      "5 is not even\n"
     ]
    }
   ],
   "source": [
    "\n",
    "def is_even(x):\n",
    "    if x%2 == 0: \n",
    "        print(x, \"is even\")\n",
    "    else: \n",
    "        print(x, \"is not even\")\n",
    "\n",
    "is_even(5)"
   ]
  },
  {
   "cell_type": "markdown",
   "metadata": {},
   "source": [
    "Write a function called digit_sum that takes a positive integer n as input and returns the sum of all that number's digits."
   ]
  },
  {
   "cell_type": "code",
   "execution_count": 12,
   "metadata": {},
   "outputs": [
    {
     "ename": "TypeError",
     "evalue": "'int' object is not iterable",
     "output_type": "error",
     "traceback": [
      "\u001b[1;31m---------------------------------------------------------------------------\u001b[0m",
      "\u001b[1;31mTypeError\u001b[0m                                 Traceback (most recent call last)",
      "Cell \u001b[1;32mIn[12], line 7\u001b[0m\n\u001b[0;32m      4\u001b[0m             \u001b[38;5;28msum\u001b[39m((\u001b[38;5;28mint\u001b[39m(n)))\n\u001b[0;32m      5\u001b[0m     \u001b[38;5;28mprint\u001b[39m(n)\n\u001b[1;32m----> 7\u001b[0m \u001b[43mdigut_sum\u001b[49m\u001b[43m(\u001b[49m\u001b[38;5;241;43m897\u001b[39;49m\u001b[43m)\u001b[49m\n",
      "Cell \u001b[1;32mIn[12], line 3\u001b[0m, in \u001b[0;36mdigut_sum\u001b[1;34m(n)\u001b[0m\n\u001b[0;32m      1\u001b[0m \u001b[38;5;28;01mdef\u001b[39;00m \u001b[38;5;21mdigut_sum\u001b[39m(n): \n\u001b[0;32m      2\u001b[0m     \u001b[38;5;28;01mif\u001b[39;00m n \u001b[38;5;241m>\u001b[39m\u001b[38;5;241m=\u001b[39m \u001b[38;5;241m0\u001b[39m: \n\u001b[1;32m----> 3\u001b[0m \u001b[43m        \u001b[49m\u001b[38;5;28;43;01mfor\u001b[39;49;00m\u001b[43m \u001b[49m\u001b[43mi\u001b[49m\u001b[43m \u001b[49m\u001b[38;5;129;43;01min\u001b[39;49;00m\u001b[43m \u001b[49m\u001b[43mn\u001b[49m\u001b[43m:\u001b[49m\u001b[43m \u001b[49m\n\u001b[0;32m      4\u001b[0m \u001b[43m            \u001b[49m\u001b[38;5;28;43msum\u001b[39;49m\u001b[43m(\u001b[49m\u001b[43m(\u001b[49m\u001b[38;5;28;43mint\u001b[39;49m\u001b[43m(\u001b[49m\u001b[43mn\u001b[49m\u001b[43m)\u001b[49m\u001b[43m)\u001b[49m\u001b[43m)\u001b[49m\n\u001b[0;32m      5\u001b[0m     \u001b[38;5;28mprint\u001b[39m(n)\n",
      "\u001b[1;31mTypeError\u001b[0m: 'int' object is not iterable"
     ]
    }
   ],
   "source": [
    "def digut_sum(n): \n",
    "    if n >= 0: \n",
    "        for i in n: \n",
    "            sum((int(n)))\n",
    "    print(n)\n",
    "\n",
    "digut_sum(897)\n",
    "\n"
   ]
  },
  {
   "cell_type": "code",
   "execution_count": null,
   "metadata": {},
   "outputs": [],
   "source": [
    "def digit_sum(n):\n",
    "    if n > 0:\n",
    "        total_sum = 0  # Inicializa la suma en cero\n",
    "        # Convierte el número a cadena para poder iterar sobre cada dígito\n",
    "        for digit in str(n):  \n",
    "            total_sum += int(digit)  # Convierte el dígito de nuevo a entero y lo suma\n",
    "        return total_sum  # Devuelve la suma total de los dígitos\n",
    "    else:\n",
    "        return \"Input must be a positive integer\"  # Mensaje si n no es positivo\n",
    "\n",
    "# Prueba la función\n",
    "result = digit_sum(897)\n",
    "print(result)  # Esto debería devolver 24 (8 + 9 + 7)\n"
   ]
  },
  {
   "cell_type": "code",
   "execution_count": null,
   "metadata": {},
   "outputs": [],
   "source": []
  }
 ],
 "metadata": {
  "kernelspec": {
   "display_name": "Python 3",
   "language": "python",
   "name": "python3"
  },
  "language_info": {
   "codemirror_mode": {
    "name": "ipython",
    "version": 3
   },
   "file_extension": ".py",
   "mimetype": "text/x-python",
   "name": "python",
   "nbconvert_exporter": "python",
   "pygments_lexer": "ipython3",
   "version": "3.11.3"
  }
 },
 "nbformat": 4,
 "nbformat_minor": 2
}
