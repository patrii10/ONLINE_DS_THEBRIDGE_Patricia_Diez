{
 "cells": [
  {
   "cell_type": "markdown",
   "metadata": {},
   "source": [
    "**Exercise 1**\\\n",
    "Write a program that generates a random number (0-10) and ask you to guess it. You have three asserts.\\\n",
    "Define a random_number with randit between 0-10. \\\n",
    "Initialize guesses_left to 3. \\\n",
    "Use a while loop to let the user keep guessing so long as guesses_left is greater than zero.\\\n",
    "Ask the user for their guess, just like the second example above.\\\n",
    "If they guess correctly, print 'You win!' and break. Decrement guesses_left by one.\\\n",
    "Use an else: case after your while loop to print: You lose. "
   ]
  },
  {
   "cell_type": "code",
   "execution_count": 9,
   "metadata": {},
   "outputs": [
    {
     "name": "stdout",
     "output_type": "stream",
     "text": [
      "Perdiste. El número era: 10\n"
     ]
    }
   ],
   "source": [
    "import random\n",
    "\n",
    "random_number = random.randint(0,10)\n",
    "\n",
    "guesses_left = 3 \n",
    "\n",
    "while guesses_left > 0: \n",
    "    user_guess = int(input(\"Adivina el número (entre 0 y 10): \"))\n",
    "    if user_guess == random_number:\n",
    "        print(\"¡Ganaste!\")\n",
    "        break\n",
    "    guesses_left -= 1\n",
    "else:\n",
    "    print(\"Perdiste. El número era:\", random_number)\n",
    "\n",
    " "
   ]
  },
  {
   "cell_type": "markdown",
   "metadata": {},
   "source": [
    "Create a for loop that prompts the user for a hobby 3 times, then appends each one to hobbies.\n",
    "\n"
   ]
  },
  {
   "cell_type": "code",
   "execution_count": 13,
   "metadata": {},
   "outputs": [
    {
     "name": "stdout",
     "output_type": "stream",
     "text": [
      "['agua']\n",
      "['agua', 'sky']\n",
      "['agua', 'sky', 'gym']\n",
      "3\n"
     ]
    }
   ],
   "source": [
    "Hobbies = []\n",
    "\n",
    "while len(Hobbies) < 3: \n",
    "    hobby = input(\"Dime un hobby!\")\n",
    "    Hobbies.append(hobby)\n",
    "    print(Hobbies)\n",
    "    \n",
    "\n",
    "print(len(Hobbies))"
   ]
  },
  {
   "cell_type": "code",
   "execution_count": null,
   "metadata": {},
   "outputs": [],
   "source": []
  }
 ],
 "metadata": {
  "kernelspec": {
   "display_name": "Python 3",
   "language": "python",
   "name": "python3"
  },
  "language_info": {
   "codemirror_mode": {
    "name": "ipython",
    "version": 3
   },
   "file_extension": ".py",
   "mimetype": "text/x-python",
   "name": "python",
   "nbconvert_exporter": "python",
   "pygments_lexer": "ipython3",
   "version": "3.11.3"
  }
 },
 "nbformat": 4,
 "nbformat_minor": 2
}
